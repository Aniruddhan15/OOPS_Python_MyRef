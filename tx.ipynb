{
 "cells": [
  {
   "cell_type": "code",
   "execution_count": 1,
   "metadata": {},
   "outputs": [
    {
     "name": "stdout",
     "output_type": "stream",
     "text": [
      "hello\n"
     ]
    }
   ],
   "source": [
    "print(\"hello\")"
   ]
  },
  {
   "cell_type": "code",
   "execution_count": 2,
   "metadata": {},
   "outputs": [],
   "source": [
    "import math"
   ]
  },
  {
   "cell_type": "code",
   "execution_count": 3,
   "metadata": {},
   "outputs": [],
   "source": [
    "import numpy"
   ]
  },
  {
   "cell_type": "code",
   "execution_count": 4,
   "metadata": {},
   "outputs": [],
   "source": [
    "import numpy as np"
   ]
  },
  {
   "cell_type": "code",
   "execution_count": 2,
   "metadata": {},
   "outputs": [
    {
     "data": {
      "text/plain": [
       "79996"
      ]
     },
     "execution_count": 2,
     "metadata": {},
     "output_type": "execute_result"
    }
   ],
   "source": [
    "from package.maths import Addition\n",
    "Addition(1,79995)"
   ]
  },
  {
   "cell_type": "code",
   "execution_count": 5,
   "metadata": {},
   "outputs": [
    {
     "data": {
      "text/plain": [
       "6"
      ]
     },
     "execution_count": 5,
     "metadata": {},
     "output_type": "execute_result"
    }
   ],
   "source": [
    "from package.subpackages.mult import mult\n",
    "mult(2,3)"
   ]
  },
  {
   "cell_type": "code",
   "execution_count": 6,
   "metadata": {},
   "outputs": [
    {
     "name": "stdout",
     "output_type": "stream",
     "text": [
      "d:\\Generative_AI\n"
     ]
    }
   ],
   "source": [
    "#File directory access\n",
    "import os\n",
    "print(os.getcwd())"
   ]
  },
  {
   "cell_type": "markdown",
   "metadata": {},
   "source": [
    "**OOPS**"
   ]
  },
  {
   "cell_type": "markdown",
   "metadata": {},
   "source": [
    "Class and Objects"
   ]
  },
  {
   "cell_type": "code",
   "execution_count": 8,
   "metadata": {},
   "outputs": [],
   "source": [
    "class Car: \n",
    "    pass\n",
    "audi = Car()\n",
    "bmw = Car()\n",
    "benz = Car()\n",
    "\n"
   ]
  },
  {
   "cell_type": "code",
   "execution_count": 12,
   "metadata": {},
   "outputs": [
    {
     "name": "stdout",
     "output_type": "stream",
     "text": [
      "<__main__.Car object at 0x0000029E4726CBF0>\n",
      "200\n",
      "220\n"
     ]
    }
   ],
   "source": [
    "print(audi)\n",
    "\n",
    "audi.speed = 200\n",
    "bmw.speed = 220\n",
    "print(audi.speed)\n",
    "print(bmw.speed)    "
   ]
  },
  {
   "cell_type": "code",
   "execution_count": 18,
   "metadata": {},
   "outputs": [],
   "source": [
    "### Instance variables\n"
   ]
  },
  {
   "cell_type": "code",
   "execution_count": 17,
   "metadata": {},
   "outputs": [
    {
     "name": "stdout",
     "output_type": "stream",
     "text": [
      "<__main__.Dog object at 0x0000029E47294E90>\n",
      "Tommy\n",
      "6\n",
      "<__main__.Dog object at 0x0000029E47295280>\n",
      "Jimmy\n",
      "7\n"
     ]
    }
   ],
   "source": [
    "class Dog:\n",
    "    ## Constructor\n",
    "    def __init__(self,name,age):\n",
    "        self.name = name\n",
    "        self.age = age\n",
    "        \n",
    "#Objects\n",
    "\n",
    "dog1 = Dog(\"Tommy\", 6)\n",
    "\n",
    "print(dog1)\n",
    "print(dog1.name)\n",
    "print(dog1.age)\n",
    "\n",
    "dog2 = Dog(\"Jimmy\", 7)\n",
    "print(dog2)\n",
    "print(dog2.name)\n",
    "print(dog2.age)"
   ]
  },
  {
   "cell_type": "code",
   "execution_count": 19,
   "metadata": {},
   "outputs": [],
   "source": [
    "##Instance Methods"
   ]
  },
  {
   "cell_type": "code",
   "execution_count": 25,
   "metadata": {},
   "outputs": [
    {
     "name": "stdout",
     "output_type": "stream",
     "text": [
      "Rohit is not the best batter as per reports as his score is 10.45\n",
      "Kohli is the worst batter as per reports as his score is 45.45\n"
     ]
    }
   ],
   "source": [
    "class IndianCricket:\n",
    "    def __init__(self,name,score,rate):\n",
    "        self.name = name\n",
    "        self.score = score\n",
    "        self.rate = rate   \n",
    "    \n",
    "    def batting(self):\n",
    "        if (self.score>35):\n",
    "            print(f\"{self.name} is the {self.rate} batter as per reports as his score is {self.score}\")\n",
    "        else:\n",
    "            print(f\"{self.name} is not the {self.rate} batter as per reports as his score is {self.score}\")\n",
    "            \n",
    "    \n",
    "rohit = IndianCricket(\"Rohit\", 10.45,\"worst\")\n",
    "rohit.batting()\n",
    "kohli = IndianCricket(\"Kohli\", 45.45,\"worst\")\n",
    "kohli.batting()"
   ]
  },
  {
   "cell_type": "markdown",
   "metadata": {},
   "source": [
    "***Modelling a Bank Account***"
   ]
  },
  {
   "cell_type": "code",
   "execution_count": 34,
   "metadata": {},
   "outputs": [
    {
     "name": "stdout",
     "output_type": "stream",
     "text": [
      "Amount 450 deposited successfully\n"
     ]
    }
   ],
   "source": [
    "class BankAccount:\n",
    "    def __init__(self,accno,accname,balance,limit):\n",
    "        self.accno = accno\n",
    "        self.accname = accname\n",
    "        self.balance = balance\n",
    "        self.limit = limit\n",
    "    \n",
    "    def deposit(self,amount):\n",
    "        self.balance = self.balance + amount\n",
    "        print(f\"Amount {amount} deposited successfully\")\n",
    "    def withdraw(self,draw_amount):\n",
    "        if(self.balance>self.limit) and (self.balance>draw_amount):\n",
    "            self.balance = self.balance - draw_amount\n",
    "            print(f\"Amount {draw_amount} withdrawn successfully\")\n",
    "            print(f\"Your balance is {self.balance}\")\n",
    "        else:\n",
    "            print(\"Insufficient balance\")\n",
    "            \n",
    "        print(f\"Your balance is {self.balance}\")\n",
    "            \n",
    "sharma = BankAccount(1234,\"Sharma\",1000,500)\n",
    "sharma.deposit(450)"
   ]
  },
  {
   "cell_type": "code",
   "execution_count": 32,
   "metadata": {},
   "outputs": [
    {
     "name": "stdout",
     "output_type": "stream",
     "text": [
      "Amount 400 withdrawn successfully\n",
      "Your balance is 600\n"
     ]
    }
   ],
   "source": [
    "pant = BankAccount(1235,\"Pant\",1000,500)\n",
    "pant.withdraw(400)"
   ]
  },
  {
   "cell_type": "code",
   "execution_count": null,
   "metadata": {},
   "outputs": [],
   "source": []
  }
 ],
 "metadata": {
  "kernelspec": {
   "display_name": "Python 3",
   "language": "python",
   "name": "python3"
  },
  "language_info": {
   "codemirror_mode": {
    "name": "ipython",
    "version": 3
   },
   "file_extension": ".py",
   "mimetype": "text/x-python",
   "name": "python",
   "nbconvert_exporter": "python",
   "pygments_lexer": "ipython3",
   "version": "3.12.0"
  }
 },
 "nbformat": 4,
 "nbformat_minor": 2
}
